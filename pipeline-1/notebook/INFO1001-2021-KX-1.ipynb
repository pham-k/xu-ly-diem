{
 "cells": [
  {
   "cell_type": "code",
   "execution_count": 1,
   "id": "5d3c932f",
   "metadata": {},
   "outputs": [],
   "source": [
    "import pandas as pd\n",
    "import util\n",
    "import mark_helper as mh\n",
    "import write_helper as wh"
   ]
  },
  {
   "cell_type": "code",
   "execution_count": 2,
   "id": "cdcec85d-542f-4478-a5f1-416f45c77409",
   "metadata": {},
   "outputs": [],
   "source": [
    "# current_date = pd.Timestamp.now().date().__str__()\n",
    "res = pd.read_parquet(f'../data/2021/response/all-response.parquet')\n",
    "res = res.query('course_id == \"INFO1001-2021-KX-1\"')\n",
    "\n",
    "attendee11 = util.get_attendee(\n",
    "    '../data/2021/mau-import-diem-import/mau-import-diem-INFO1001-2021-KX-1-KX-2021-LAN1.xlsx',\n",
    "    course_id='INFO1001-2021-KX-1')\n",
    "exam = util.parse_exam('../data/2021/reference/exam.xlsx')"
   ]
  },
  {
   "cell_type": "code",
   "execution_count": 3,
   "id": "a904db50-c4b2-459d-b4f0-5557c8fb7a81",
   "metadata": {},
   "outputs": [],
   "source": [
    "# attendee11"
   ]
  },
  {
   "cell_type": "code",
   "execution_count": 4,
   "id": "7d159912-83a0-42b9-9999-11e8fb3bfd8e",
   "metadata": {},
   "outputs": [],
   "source": [
    "# for testing purpose\n",
    "# PATH_RTHILT1 = '../data/2021/response/INFO1001-2021-KX-1-QT1 (Responses).xlsx'\n",
    "# PATH_RTHITH1 = '../data/2021/response/INFO1001-2021-KX-1-QT1 (Responses).xlsx'\n",
    "PATH_RTHILT2 = '../data/2021/response/INFO1001-2021-KX-1-QT1 (Responses).xlsx'\n",
    "PATH_RTHITH2 = '../data/2021/response/INFO1001-2021-KX-1-QT1 (Responses).xlsx'\n",
    "PATH_CUTPOINT = '../data/2021/reference/cutpoint.csv'\n",
    "cutpoint = pd.read_csv(PATH_CUTPOINT, index_col=None)\n",
    "# rthilt1 = util.parse_response(PATH_RTHILT1)\n",
    "rthilt2 = util.parse_response(PATH_RTHILT2)\n",
    "# rthith1 = util.parse_response(PATH_RTHITH1)\n",
    "rthith2 = util.parse_response(PATH_RTHITH2)\n",
    "# rthilt1['course_id'] = 'INFO1001-2021-KX-1'\n",
    "rthilt2['course_id'] = 'INFO1001-2021-KX-1'\n",
    "# rthith1['course_id'] = 'INFO1001-2021-KX-1'\n",
    "rthith2['course_id'] = 'INFO1001-2021-KX-1'\n",
    "# thilt1 = mh.get_mark(rthilt1, cutpoint, total=30, exam_id='INFO1001-2021-KX-1-THILT1')\n",
    "thilt2 = mh.get_mark(rthilt2, cutpoint, total=30, exam_id='INFO1001-2021-KX-1-THILT2')\n",
    "# thith1 = mh.get_mark(rthith1, cutpoint, total=30, exam_id='INFO1001-2021-KX-1-THITH1')\n",
    "thith2 = mh.get_mark(rthith2, cutpoint, total=30, exam_id='INFO1001-2021-KX-1-THITH2')\n",
    "res = res.append(thilt2).append(thith2)"
   ]
  },
  {
   "cell_type": "code",
   "execution_count": 5,
   "id": "24e951d7",
   "metadata": {},
   "outputs": [],
   "source": [
    "mark_wide = mh.get_mark_wide(res)\n",
    "mark_long = mh.get_mark_long(\n",
    "    mark_wide,\n",
    "    value_vars=[\n",
    "        'INFO1001-2021-KX-1-CC1', \n",
    "        'INFO1001-2021-KX-1-CC2',\n",
    "        'INFO1001-2021-KX-1-CC3', \n",
    "        'INFO1001-2021-KX-1-QT1',\n",
    "        'INFO1001-2021-KX-1-THILT1', \n",
    "        'INFO1001-2021-KX-1-THILT2',\n",
    "        'INFO1001-2021-KX-1-THITH1', \n",
    "        'INFO1001-2021-KX-1-THITH2'])"
   ]
  },
  {
   "cell_type": "code",
   "execution_count": 6,
   "id": "3ea4552d-b74b-4148-9614-80f76b0f68ee",
   "metadata": {},
   "outputs": [],
   "source": [
    "# mark_wide.query('user_id == \"2053010005\"')"
   ]
  },
  {
   "cell_type": "code",
   "execution_count": 7,
   "id": "4c8438b2-d8f1-44cb-ab15-72de0654fa7d",
   "metadata": {},
   "outputs": [
    {
     "name": "stdout",
     "output_type": "stream",
     "text": [
      "                27\n",
      "Rớt TH           4\n",
      "VT LT, VT TH     3\n",
      "Name: note1, dtype: int64\n"
     ]
    }
   ],
   "source": [
    "# using procedure 1\n",
    "wh.write_INFO1001(\n",
    "    attendee11, mark_long, exam, name='INFO1001-2021-KX-1-KX-2021',\n",
    "    mon='Tin học [2TC]',\n",
    "    lop='KX-2021',\n",
    "    lop_hp='211THC_01080701',\n",
    "    lan_thi='1',\n",
    "    ngay_thi='19/02/2022',\n",
    "    footer='INFO1001-2021-KX-1',\n",
    "    ngay='      ', thang='03', nam='2022'\n",
    ")"
   ]
  }
 ],
 "metadata": {
  "kernelspec": {
   "display_name": "Python 3",
   "language": "python",
   "name": "python3"
  },
  "language_info": {
   "codemirror_mode": {
    "name": "ipython",
    "version": 3
   },
   "file_extension": ".py",
   "mimetype": "text/x-python",
   "name": "python",
   "nbconvert_exporter": "python",
   "pygments_lexer": "ipython3",
   "version": "3.10.2"
  }
 },
 "nbformat": 4,
 "nbformat_minor": 5
}
