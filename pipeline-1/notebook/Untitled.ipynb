{
 "cells": [
  {
   "cell_type": "code",
   "execution_count": 8,
   "id": "bc42e28c-f850-4daf-8218-31dd0a965ddd",
   "metadata": {},
   "outputs": [
    {
     "name": "stdout",
     "output_type": "stream",
     "text": [
      "1.0\n"
     ]
    }
   ],
   "source": [
    "# test\n",
    "import numpy as np\n",
    "import math\n",
    "\n",
    "def round_half_up(n, decimals=0):\n",
    "    multiplier = 10 ** decimals\n",
    "    # Replace math.floor with np.floor\n",
    "    return np.floor(n*multiplier + 0.5) / multiplier\n",
    "\n",
    "def r1(a, b, c):\n",
    "    n = (10*a+20*b+70*c) / 100\n",
    "    return str(round_half_up(round(n, 2), 1))\n",
    "\n",
    "def r2(a, b, c):\n",
    "    n = (0.1*a+0.2*b+0.7*c)\n",
    "    return str(round_half_up(round(n, 2), 1))\n",
    "\n",
    "count = 0\n",
    "for i in np.arange(0, 10.1, 0.1):\n",
    "    for j in np.arange(0, 10.1, 0.1):\n",
    "        for k in np.arange(0, 10.1, 0.1):\n",
    "            if r1(i, j, k)  r2(i, j, k):\n",
    "                # print(f'{i} {j} {k}')\n",
    "                count += 1\n",
    "print(count / 101**3)"
   ]
  }
 ],
 "metadata": {
  "kernelspec": {
   "display_name": "Python 3",
   "language": "python",
   "name": "python3"
  },
  "language_info": {
   "codemirror_mode": {
    "name": "ipython",
    "version": 3
   },
   "file_extension": ".py",
   "mimetype": "text/x-python",
   "name": "python",
   "nbconvert_exporter": "python",
   "pygments_lexer": "ipython3",
   "version": "3.10.2"
  }
 },
 "nbformat": 4,
 "nbformat_minor": 5
}
