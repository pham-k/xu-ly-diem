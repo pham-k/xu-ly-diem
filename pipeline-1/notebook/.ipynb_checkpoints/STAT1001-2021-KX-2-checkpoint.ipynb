{
 "cells": [
  {
   "cell_type": "code",
   "execution_count": 1,
   "id": "5d3c932f",
   "metadata": {},
   "outputs": [],
   "source": [
    "import pandas as pd\n",
    "import util\n",
    "import mark_helper as mh\n",
    "import write_helper as wh"
   ]
  },
  {
   "cell_type": "code",
   "execution_count": 2,
   "id": "cdcec85d-542f-4478-a5f1-416f45c77409",
   "metadata": {},
   "outputs": [],
   "source": [
    "# current_date = pd.Timestamp.now().date().__str__()\n",
    "res = pd.read_parquet(f'../data/2021/response/all-response.parquet')\n",
    "res = res.query('course_id == \"xstk-2021-kx2\"')\n",
    "\n",
    "attendee11 = util.get_attendee(\n",
    "    '../data/2021/mau-import-diem-import/mau-import-diem-xstk-2021-kx2-kx-2020-lan1.xlsx',\n",
    "    course_id='xstk-2021-kx2',\n",
    "    class_id='kx-2020')\n",
    "exam = util.parse_exam('../data/2021/reference/exam.xlsx')"
   ]
  },
  {
   "cell_type": "code",
   "execution_count": 3,
   "id": "7d159912-83a0-42b9-9999-11e8fb3bfd8e",
   "metadata": {},
   "outputs": [],
   "source": [
    "# for testing purpose\n",
    "PATH_RTHI1 = '../data/2021/response/xstk-2021-kx2-qt1 (Responses).xlsx'\n",
    "PATH_RTHI2 = '../data/2021/response/xstk-2021-kx2-qt1 (Responses).xlsx'\n",
    "PATH_CUTPOINT = '../data/2021/reference/cutpoint.csv'\n",
    "cutpoint = pd.read_csv(PATH_CUTPOINT, index_col=None)\n",
    "rthi1 = util.parse_response(PATH_RTHI1)\n",
    "rthi2 = util.parse_response(PATH_RTHI2)\n",
    "rthi1['course_id'] = 'xstk-2021-kx2'\n",
    "rthi2['course_id'] = 'xstk-2021-kx2'\n",
    "thi1 = mh.get_mark(rthi1, cutpoint, total=20, exam_id='xstk-2021-kx2-thi1')\n",
    "thi2 = mh.get_mark(rthi2, cutpoint, total=20, exam_id='xstk-2021-kx2-thi2')\n",
    "res = res.append(thi1).append(thi2)"
   ]
  },
  {
   "cell_type": "code",
   "execution_count": 4,
   "id": "24e951d7",
   "metadata": {},
   "outputs": [],
   "source": [
    "mark_wide = mh.get_mark_wide(res)\n",
    "mark_long = mh.get_mark_long(\n",
    "    mark_wide,\n",
    "    value_vars=[\n",
    "        'xstk-2021-kx2-cc1', \n",
    "        'xstk-2021-kx2-cc2', \n",
    "        'xstk-2021-kx2-qt1',\n",
    "        'xstk-2021-kx2-thi1', \n",
    "        'xstk-2021-kx2-thi2'])"
   ]
  },
  {
   "cell_type": "code",
   "execution_count": 6,
   "id": "4c8438b2-d8f1-44cb-ab15-72de0654fa7d",
   "metadata": {},
   "outputs": [],
   "source": [
    "wh.write_2(\n",
    "    attendee11, mark_long, exam, name='xstk-2021-kx2-kx-2020',\n",
    "    mon='Thống kê y học [2TC]',\n",
    "    lop='KX-2020',\n",
    "    lop_hp='211XTK_01081001',\n",
    "    lan_thi='1',\n",
    "    ngay_thi='08/03/2022',\n",
    "    ngay='08', thang='03', nam='2022'\n",
    ")"
   ]
  }
 ],
 "metadata": {
  "kernelspec": {
   "display_name": "Python 3",
   "language": "python",
   "name": "python3"
  },
  "language_info": {
   "codemirror_mode": {
    "name": "ipython",
    "version": 3
   },
   "file_extension": ".py",
   "mimetype": "text/x-python",
   "name": "python",
   "nbconvert_exporter": "python",
   "pygments_lexer": "ipython3",
   "version": "3.10.2"
  }
 },
 "nbformat": 4,
 "nbformat_minor": 5
}
